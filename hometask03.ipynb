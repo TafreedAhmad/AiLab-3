{
 "cells": [
  {
   "attachments": {},
   "cell_type": "markdown",
   "metadata": {},
   "source": [
    "Task #1"
   ]
  },
  {
   "cell_type": "code",
   "execution_count": 38,
   "metadata": {},
   "outputs": [],
   "source": [
    "class Node:\n",
    "    def __init__(self, v):\n",
    "        self.val = v\n",
    "        self.right = None\n",
    "        self.left = None\n",
    "\n",
    "\n",
    "def insertNode(root, node):\n",
    "    if root is None:\n",
    "        return node\n",
    "    elif root.val > node.val:\n",
    "        root.left = insertNode(root.left, node)\n",
    "    elif root.val < node.val:\n",
    "        root.right = insertNode(root.right, node)\n",
    "\n",
    "    return root\n"
   ]
  },
  {
   "cell_type": "code",
   "execution_count": 39,
   "metadata": {},
   "outputs": [],
   "source": [
    "\n",
    "\n",
    "values = [1, 4, 6, 8, 2, 3, 7]\n",
    "\n",
    "root = Node(values[0])\n",
    "\n",
    "for i in values:\n",
    "    insertNode(root, Node(i))\n"
   ]
  },
  {
   "cell_type": "code",
   "execution_count": 9,
   "metadata": {},
   "outputs": [],
   "source": [
    "def BFS(goal):\n",
    "    explored = []\n",
    "    q = []\n",
    "    q.append(root)\n",
    "\n",
    "    while len(q) > 0:\n",
    "\n",
    "        #print(q)\n",
    "\n",
    "        qq = [i.val for i in q]\n",
    "        # print(qq)\n",
    "\n",
    "        node = q.pop(0)\n",
    "\n",
    "        explored.append(node.val)\n",
    "\n",
    "        # print('POP: ', node.val)\n",
    "        # print()\n",
    "\n",
    "        if node.val == goal:\n",
    "            # print('Result:  ', explored)\n",
    "            break\n",
    "\n",
    "        if node.left is not None:\n",
    "            q.append(node.left)\n",
    "\n",
    "        if node.right is not None:\n",
    "            q.append(node.right)\n",
    "# val = [10,5,3,7,15,12,17]\n",
    "\n",
    "\n",
    "BFS(7)\n"
   ]
  },
  {
   "cell_type": "code",
   "execution_count": 10,
   "metadata": {},
   "outputs": [],
   "source": [
    "def DFS(goal):\n",
    "    explored = []\n",
    "    s = []\n",
    "    s.append(root)\n",
    "\n",
    "    while len(s) > 0:\n",
    "\n",
    "        ss = [i.val for i in s]\n",
    "        # print(ss)\n",
    "\n",
    "        node = s.pop()\n",
    "\n",
    "        explored.append(node.val)\n",
    "\n",
    "        # print('POP: ', node.val)\n",
    "        # print()\n",
    "\n",
    "        if node.val == goal:\n",
    "            # print('Result:  ', explored)\n",
    "            break\n",
    "\n",
    "        if node.right is not None:\n",
    "            s.append(node.right)\n",
    "\n",
    "        if node.left is not None:\n",
    "            s.append(node.left)\n",
    "\n",
    "\n",
    "DFS(7)\n"
   ]
  },
  {
   "attachments": {},
   "cell_type": "markdown",
   "metadata": {},
   "source": [
    "BFS for graph"
   ]
  },
  {
   "cell_type": "code",
   "execution_count": null,
   "metadata": {},
   "outputs": [],
   "source": [
    "dd = {'s': ['a','b'],\n",
    "      'a': ['c'],\n",
    "      'b': ['c','d'],\n",
    "      'c': ['g'],\n",
    "      'g': []}\n",
    "\n",
    "def bfs(graph, start):\n",
    "    q = [start]\n",
    "    explored = set()\n",
    "    expanded = []\n",
    "\n",
    "    while q:\n",
    "        node = q.pop(0)\n",
    "        explored.add(node)\n",
    "        expanded.append(node)\n",
    "\n",
    "        if node in graph:\n",
    "            for i in graph[node]:\n",
    "                if i not in explored and i not in q:\n",
    "                    q.append(i)\n",
    "\n",
    "    return explored, expanded, len(expanded)\n"
   ]
  },
  {
   "cell_type": "code",
   "execution_count": null,
   "metadata": {},
   "outputs": [
    {
     "data": {
      "text/plain": [
       "({'a', 'b', 'c', 'd', 'g', 's'}, ['s', 'a', 'b', 'c', 'd', 'g'], 6)"
      ]
     },
     "execution_count": 54,
     "metadata": {},
     "output_type": "execute_result"
    }
   ],
   "source": [
    "bfs(dd, 's')"
   ]
  },
  {
   "attachments": {},
   "cell_type": "markdown",
   "metadata": {},
   "source": [
    "DFS for Graph"
   ]
  },
  {
   "cell_type": "code",
   "execution_count": null,
   "metadata": {},
   "outputs": [],
   "source": [
    "def dfs(graph, start):\n",
    "    s = [start]\n",
    "    explored = set()\n",
    "    expanded = []\n",
    "    \n",
    "    while s:\n",
    "        node = s.pop()\n",
    "        explored.add(node)\n",
    "        expanded.append(node)\n",
    "        \n",
    "        if node in graph:\n",
    "            for i in graph[node]:\n",
    "                if i not in explored and i not in s:\n",
    "                    s.append(i)\n",
    "\n",
    "    return explored, expanded, len(expanded)"
   ]
  },
  {
   "cell_type": "code",
   "execution_count": null,
   "metadata": {},
   "outputs": [],
   "source": [
    "dd = {'s': ['a', 'b'],\n",
    "      'a': ['c'],\n",
    "      'b': ['c', 'd'],\n",
    "      'c': ['g'],\n",
    "      'g': []}\n"
   ]
  },
  {
   "cell_type": "code",
   "execution_count": null,
   "metadata": {},
   "outputs": [
    {
     "data": {
      "text/plain": [
       "({'a', 'b', 'c', 'd', 'g', 's'}, ['s', 'b', 'd', 'c', 'g', 'a'], 6)"
      ]
     },
     "execution_count": 58,
     "metadata": {},
     "output_type": "execute_result"
    }
   ],
   "source": [
    "dfs(dd, 's')"
   ]
  },
  {
   "attachments": {},
   "cell_type": "markdown",
   "metadata": {},
   "source": [
    "Task #2"
   ]
  },
  {
   "cell_type": "code",
   "execution_count": 4,
   "metadata": {},
   "outputs": [],
   "source": [
    "import random\n",
    "import time"
   ]
  },
  {
   "cell_type": "code",
   "execution_count": 5,
   "metadata": {},
   "outputs": [],
   "source": [
    "random_num = []\n",
    "\n",
    "for i in range(1000):\n",
    "    random_num.append(random.randint(1, 1000))\n",
    "    \n",
    "# print(random_num)\n"
   ]
  },
  {
   "cell_type": "code",
   "execution_count": 6,
   "metadata": {},
   "outputs": [],
   "source": [
    "class Node:\n",
    "    def __init__(self, v):\n",
    "        self.val = v\n",
    "        self.right = None\n",
    "        self.left = None\n",
    "\n",
    "\n",
    "def insertNode(root, node):\n",
    "    if root is None:\n",
    "        return node\n",
    "    elif root.val > node.val:\n",
    "        root.left = insertNode(root.left, node)\n",
    "    elif root.val < node.val:\n",
    "        root.right = insertNode(root.right, node)\n",
    "\n",
    "    return root\n",
    "\n"
   ]
  },
  {
   "cell_type": "code",
   "execution_count": 7,
   "metadata": {},
   "outputs": [],
   "source": [
    "random_num = []\n",
    "\n",
    "for i in range(1000):\n",
    "    random_num.append(random.randint(1, 1000))\n",
    "\n",
    "# print(random_num)\n",
    "root = Node(random_num[0])\n",
    "\n",
    "for i in random_num:\n",
    "    insertNode(root, Node(i))\n"
   ]
  },
  {
   "cell_type": "code",
   "execution_count": 11,
   "metadata": {},
   "outputs": [
    {
     "name": "stdout",
     "output_type": "stream",
     "text": [
      "0.0049974918365478516\n"
     ]
    }
   ],
   "source": [
    "start = time.time()\n",
    "\n",
    "BFS(root)\n",
    "\n",
    "end = time.time()\n",
    "print(end - start)\n",
    "\n",
    "\n",
    "#It ran for too long for 1000000 nodes of tree that I will assume its time now\n"
   ]
  },
  {
   "cell_type": "code",
   "execution_count": 12,
   "metadata": {},
   "outputs": [
    {
     "name": "stdout",
     "output_type": "stream",
     "text": [
      "0.0019888877868652344\n"
     ]
    }
   ],
   "source": [
    "\n",
    "start = time.time()\n",
    "DFS(root)\n",
    "\n",
    "end = time.time()\n",
    "print(end - start)\n"
   ]
  },
  {
   "cell_type": "code",
   "execution_count": 3,
   "metadata": {},
   "outputs": [],
   "source": [
    "import matplotlib.pyplot as plt\n",
    "import pandas as pd"
   ]
  },
  {
   "cell_type": "code",
   "execution_count": 6,
   "metadata": {},
   "outputs": [
    {
     "data": {
      "text/html": [
       "<div>\n",
       "<style scoped>\n",
       "    .dataframe tbody tr th:only-of-type {\n",
       "        vertical-align: middle;\n",
       "    }\n",
       "\n",
       "    .dataframe tbody tr th {\n",
       "        vertical-align: top;\n",
       "    }\n",
       "\n",
       "    .dataframe thead th {\n",
       "        text-align: right;\n",
       "    }\n",
       "</style>\n",
       "<table border=\"1\" class=\"dataframe\">\n",
       "  <thead>\n",
       "    <tr style=\"text-align: right;\">\n",
       "      <th></th>\n",
       "      <th>Tree Size</th>\n",
       "      <th>BFS Time</th>\n",
       "      <th>DFS Time</th>\n",
       "    </tr>\n",
       "  </thead>\n",
       "  <tbody>\n",
       "    <tr>\n",
       "      <th>0</th>\n",
       "      <td>1000</td>\n",
       "      <td>0.0050</td>\n",
       "      <td>0.0023</td>\n",
       "    </tr>\n",
       "    <tr>\n",
       "      <th>1</th>\n",
       "      <td>40000</td>\n",
       "      <td>8.9659</td>\n",
       "      <td>0.1000</td>\n",
       "    </tr>\n",
       "    <tr>\n",
       "      <th>2</th>\n",
       "      <td>80000</td>\n",
       "      <td>49.8570</td>\n",
       "      <td>0.1653</td>\n",
       "    </tr>\n",
       "    <tr>\n",
       "      <th>3</th>\n",
       "      <td>200000</td>\n",
       "      <td>363.1680</td>\n",
       "      <td>0.6590</td>\n",
       "    </tr>\n",
       "    <tr>\n",
       "      <th>4</th>\n",
       "      <td>1000000</td>\n",
       "      <td>850.0000</td>\n",
       "      <td>1.9220</td>\n",
       "    </tr>\n",
       "  </tbody>\n",
       "</table>\n",
       "</div>"
      ],
      "text/plain": [
       "   Tree Size  BFS Time  DFS Time\n",
       "0       1000    0.0050    0.0023\n",
       "1      40000    8.9659    0.1000\n",
       "2      80000   49.8570    0.1653\n",
       "3     200000  363.1680    0.6590\n",
       "4    1000000  850.0000    1.9220"
      ]
     },
     "execution_count": 6,
     "metadata": {},
     "output_type": "execute_result"
    }
   ],
   "source": [
    "data = {'Tree Size': [1000, 40000, 80000, 200000, 1000000],\n",
    "        'BFS Time': [0.005, 8.9659, 49.857, 363.168, 850],\n",
    "        'DFS Time': [0.0023, 0.1, 0.1653, 0.659, 1.922]}\n",
    "\n",
    "df = pd.DataFrame(data)\n",
    "\n",
    "df\n"
   ]
  },
  {
   "cell_type": "code",
   "execution_count": 12,
   "metadata": {},
   "outputs": [
    {
     "data": {
      "image/png": "[encoded data removed]",
      "text/plain": [
       "<Figure size 640x480 with 1 Axes>"
      ]
     },
     "metadata": {},
     "output_type": "display_data"
    }
   ],
   "source": [
    "BFSTime = [0.005, 8.9659, 49.857, 363.168, 850]\n",
    "DFSTime = [0.0023, 0.1, 0.1653, 0.659, 1.922]\n",
    "index = [1000, 40000, 80000, 200000, 1000000]\n",
    "df = pd.DataFrame({'BFS': BFSTime,\n",
    "                   'DFS': DFSTime}, index=index)\n",
    "ax = df.plot.bar(rot=0)"
   ]
  },
  {
   "cell_type": "code",
   "execution_count": null,
   "metadata": {},
   "outputs": [],
   "source": []
  },
  {
   "attachments": {},
   "cell_type": "markdown",
   "metadata": {},
   "source": [
    "Task #3\n",
    "<!-- Let me send the snapshot of my tree in the group -->"
   ]
  },
  {
   "attachments": {},
   "cell_type": "markdown",
   "metadata": {},
   "source": [
    "Binarytree https://pypi.org/project/binarytree"
   ]
  },
  {
   "cell_type": "code",
   "execution_count": null,
   "metadata": {},
   "outputs": [
    {
     "data": {
      "text/plain": [
       "[95, 60, 81, 96, 52, 45, 65, 74, 82, 68, 98, 42, 52, 73, 50]"
      ]
     },
     "execution_count": 3,
     "metadata": {},
     "output_type": "execute_result"
    }
   ],
   "source": [
    "#  Generating 15 random numbers for my tree\n",
    "import random\n",
    "random_tree = []\n",
    "\n",
    "for i in range(15):\n",
    "    random_tree.append(random.randint(30, 100))\n",
    "random_tree"
   ]
  },
  {
   "cell_type": "code",
   "execution_count": 3,
   "metadata": {},
   "outputs": [],
   "source": [
    "my_tree = [68, 95, 60, 81, 96, 52, 45, 65, 74, 82, 98, 42, 53, 73, 50]"
   ]
  },
  {
   "cell_type": "code",
   "execution_count": null,
   "metadata": {},
   "outputs": [
    {
     "name": "stdout",
     "output_type": "stream",
     "text": [
      "\n",
      "           __________42_________\n",
      "          /                     \\\n",
      "     ____45___               ____50___\n",
      "    /         \\             /         \\\n",
      "  _52         _53         _60         _65\n",
      " /   \\       /   \\       /   \\       /   \\\n",
      "68    73    74    81    82    95    96    98\n",
      "\n"
     ]
    }
   ],
   "source": [
    "from binarytree import build\n",
    "\n",
    "my_tree = [68, 95, 60, 81, 96, 52, 45, 65, 74, 82, 98, 42, 53, 73, 50]\n",
    "\n",
    "\n",
    "class Node:\n",
    "    def __init__(self, v):\n",
    "        self.val = v\n",
    "        self.right = None\n",
    "        self.left = None\n",
    "\n",
    "\n",
    "def insertNode(root, node):\n",
    "    if root is None:\n",
    "        return node\n",
    "    elif root.val > node.val:\n",
    "        root.left = insertNode(root.left, node)\n",
    "    elif root.val < node.val:\n",
    "        root.right = insertNode(root.right, node)\n",
    "    return root\n",
    "\n",
    "\n",
    "# Create an empty root node\n",
    "root = None\n",
    "\n",
    "# Insert the values from my_tree into the binary search tree\n",
    "for val in my_tree:\n",
    "    root = insertNode(root, Node(val))\n",
    "\n",
    "# Build a list of node values from the binary search tree\n",
    "node_values = []\n",
    "\n",
    "\n",
    "def inorder_traversal(node):\n",
    "    if node:\n",
    "        inorder_traversal(node.left)\n",
    "        node_values.append(node.val)\n",
    "        inorder_traversal(node.right)\n",
    "\n",
    "\n",
    "inorder_traversal(root)\n",
    "\n",
    "# Build a binary tree object from the node values list\n",
    "bt = build(node_values)\n",
    "\n",
    "# Print the binary tree\n",
    "print(bt)\n"
   ]
  },
  {
   "attachments": {},
   "cell_type": "markdown",
   "metadata": {},
   "source": [
    "Binary tree"
   ]
  },
  {
   "cell_type": "code",
   "execution_count": null,
   "metadata": {},
   "outputs": [
    {
     "name": "stdout",
     "output_type": "stream",
     "text": [
      "\n",
      "           __________68_________\n",
      "          /                     \\\n",
      "     ____60___               ____52___\n",
      "    /         \\             /         \\\n",
      "  _45         _42         _50         _53\n",
      " /   \\       /   \\       /   \\       /   \\\n",
      "65    95    81    74    73    82    96    98\n",
      "\n"
     ]
    }
   ],
   "source": [
    "def get_tree_values(root):\n",
    "    \n",
    "    values = []\n",
    "    if root is not None:\n",
    "        values.append(root.val)\n",
    "        values += get_tree_values(root.left)\n",
    "        values += get_tree_values(root.right)\n",
    "    return values\n",
    "\n",
    "\n",
    "# Create an empty root node\n",
    "root = None\n",
    "\n",
    "# Insert the values from my_tree into the binary search tree\n",
    "for val in my_tree:\n",
    "    root = insertNode(root, Node(val))\n",
    "\n",
    "# Build a binary tree object from the root node\n",
    "tree_values = get_tree_values(root)\n",
    "bt = build(tree_values)\n",
    "\n",
    "# Print the binary tree\n",
    "print(bt)\n"
   ]
  },
  {
   "cell_type": "code",
   "execution_count": 19,
   "metadata": {},
   "outputs": [
    {
     "name": "stdout",
     "output_type": "stream",
     "text": [
      "\n",
      "                 ____68_______________\n",
      "                /                     \\\n",
      "           ____60               _______95\n",
      "          /      \\             /         \\\n",
      "     ____52       65         _81          96\n",
      "    /      \\                /   \\           \\\n",
      "  _45       53            _74    82          98\n",
      " /   \\                   /         \\\n",
      "42    50                73          83\n",
      "\n"
     ]
    }
   ],
   "source": [
    "from binarytree import build, build2, Node\n",
    "\n",
    "# First let's create an example tree.\n",
    "root = Node(68)\n",
    "root.left = Node(60)\n",
    "root.left.right = Node(65)\n",
    "root.left.left = Node(52)\n",
    "root.left.left.right = Node(53)\n",
    "root.left.left.left = Node(45)\n",
    "root.left.left.left.right = Node(50)\n",
    "root.left.left.left.left = Node(42)\n",
    "root.right = Node(95)\n",
    "root.right.right = Node(96)\n",
    "root.right.left = Node(81)\n",
    "root.right.left.right = Node(82)\n",
    "root.right.left.right.right = Node(83)\n",
    "root.right.right.right = Node(98)\n",
    "root.right.left.left = Node(74)\n",
    "root.right.left.left.left = Node(73)\n",
    "print(root)\n"
   ]
  },
  {
   "attachments": {},
   "cell_type": "markdown",
   "metadata": {},
   "source": [
    "Anytree (build both tree shapes as mentioned in link)\n",
    "https://anytree.readthedocs.io/en/latest/"
   ]
  },
  {
   "cell_type": "code",
   "execution_count": null,
   "metadata": {},
   "outputs": [],
   "source": [
    "from anytree import AnyNode, RenderTree\n",
    "\n",
    "root = AnyNode(id=\"root\")\n",
    "s0 = AnyNode(id=\"sub0\", parent=root)\n",
    "s0b = AnyNode(id=\"sub0B\", parent=s0, foo=4, bar=109)\n",
    "s0a = AnyNode(id=\"sub0A\", parent=s0)\n",
    "s1 = AnyNode(id=\"sub1\", parent=root)\n",
    "s1a = AnyNode(id=\"sub1A\", parent=s1)\n",
    "s1b = AnyNode(id=\"sub1B\", parent=s1, bar=8)\n",
    "s1c = AnyNode(id=\"sub1C\", parent=s1)\n",
    "s1ca = AnyNode(id=\"sub1Ca\", parent=s1c)"
   ]
  },
  {
   "cell_type": "code",
   "execution_count": null,
   "metadata": {},
   "outputs": [
    {
     "name": "stdout",
     "output_type": "stream",
     "text": [
      "AnyNode(id='root')\n",
      "├── AnyNode(id='sub0')\n",
      "│   ├── AnyNode(bar=109, foo=4, id='sub0B')\n",
      "│   └── AnyNode(id='sub0A')\n",
      "└── AnyNode(id='sub1')\n",
      "    ├── AnyNode(id='sub1A')\n",
      "    ├── AnyNode(bar=8, id='sub1B')\n",
      "    └── AnyNode(id='sub1C')\n",
      "        └── AnyNode(id='sub1Ca')\n"
     ]
    }
   ],
   "source": [
    "print(RenderTree(root))\n"
   ]
  },
  {
   "cell_type": "code",
   "execution_count": null,
   "metadata": {},
   "outputs": [
    {
     "name": "stdout",
     "output_type": "stream",
     "text": [
      "68\n",
      "├── 95\n",
      "│   ├── 96\n",
      "│   │   └── 98\n",
      "│   └── 81\n",
      "│       ├── 82\n",
      "│       │   └── 83\n",
      "│       └── 74\n",
      "│           └── 73\n",
      "└── 60\n",
      "    ├── 52\n",
      "    │   ├── 53\n",
      "    │   └── 45\n",
      "    │       ├── 50\n",
      "    │       └── 42\n",
      "    └── 65\n"
     ]
    }
   ],
   "source": [
    "from anytree import AnyNode, RenderTree\n",
    "root = AnyNode(id=\"68\")\n",
    "s0 = AnyNode(id=\"95\", parent=root)\n",
    "s0b = AnyNode(id=\"96\", parent=s0, foo=4, bar=109)\n",
    "s0bb = AnyNode(id=\"98\", parent=s0b, foo=4, bar=109)\n",
    "s0a = AnyNode(id=\"81\", parent=s0)\n",
    "s0ab = AnyNode(id=\"82\", parent=s0a)\n",
    "s0abb = AnyNode(id=\"83\", parent=s0ab)\n",
    "s0aa = AnyNode(id=\"74\", parent=s0a)\n",
    "s0aaa = AnyNode(id=\"73\", parent=s0aa)\n",
    "s1 = AnyNode(id=\"60\", parent=root)\n",
    "s1a = AnyNode(id=\"52\", parent=s1)\n",
    "s1ab = AnyNode(id=\"53\", parent=s1a)\n",
    "s1b = AnyNode(id=\"65\", parent=s1, bar=8)\n",
    "s1aa = AnyNode(id=\"45\", parent=s1a, bar=8)\n",
    "s1aab = AnyNode(id=\"50\", parent=s1aa, bar=8)\n",
    "s1aaa = AnyNode(id=\"42\", parent=s1aa, bar=8)\n",
    "print(RenderTree(root).by_attr('id'))"
   ]
  },
  {
   "attachments": {},
   "cell_type": "markdown",
   "metadata": {},
   "source": [
    "Treelib https://treelib.readthedocs.io/en/latest/"
   ]
  },
  {
   "cell_type": "code",
   "execution_count": null,
   "metadata": {},
   "outputs": [
    {
     "name": "stdout",
     "output_type": "stream",
     "text": [
      "68\n",
      "├── 60\n",
      "│   ├── 52\n",
      "│   │   ├── 45\n",
      "│   │   │   ├── 42\n",
      "│   │   │   └── 50\n",
      "│   │   └── 53\n",
      "│   └── 65\n",
      "└── 95\n",
      "    ├── 81\n",
      "    │   ├── 74\n",
      "    │   │   └── 73\n",
      "    │   └── 82\n",
      "    │       └── 83\n",
      "    └── 96\n",
      "        └── 98\n",
      "\n"
     ]
    }
   ],
   "source": [
    "from treelib import Node, Tree\n",
    "tree = Tree()\n",
    "tree.create_node(68, \"68\")  # root node\n",
    "tree.create_node(95, \"95\", parent=\"68\")\n",
    "tree.create_node(96, \"96\", parent=\"95\")\n",
    "tree.create_node(98, \"98\", parent=\"96\")\n",
    "tree.create_node(81, \"81\", parent=\"95\")\n",
    "tree.create_node(82, \"82\", parent=\"81\")\n",
    "tree.create_node(83, \"83\", parent=\"82\")\n",
    "tree.create_node(74, \"74\", parent=\"81\")\n",
    "tree.create_node(73, \"73\", parent=\"74\")\n",
    "tree.create_node(60, \"60\", parent=\"68\")\n",
    "tree.create_node(65, \"65\", parent=\"60\")\n",
    "tree.create_node(52, \"52\", parent=\"60\")\n",
    "tree.create_node(53, \"53\", parent=\"52\")\n",
    "tree.create_node(45, \"45\", parent=\"52\")\n",
    "tree.create_node(42, \"42\", parent=\"45\")\n",
    "tree.create_node(50, \"50\", parent=\"45\")\n",
    "tree.show()\n"
   ]
  },
  {
   "attachments": {},
   "cell_type": "markdown",
   "metadata": {},
   "source": [
    " Turtle (For Animation) "
   ]
  },
  {
   "cell_type": "code",
   "execution_count": 8,
   "metadata": {},
   "outputs": [],
   "source": [
    "from math import acos\n",
    "import turtle\n"
   ]
  },
  {
   "cell_type": "code",
   "execution_count": 19,
   "metadata": {},
   "outputs": [],
   "source": [
    "import turtle\n",
    "\n",
    "# Define the Node class\n",
    "\n",
    "\n",
    "class Node:\n",
    "    def __init__(self, value):\n",
    "        self.value = value\n",
    "        self.left = None\n",
    "        self.right = None\n",
    "\n",
    "# Define the Tree class\n",
    "\n",
    "\n",
    "class Tree:\n",
    "    def __init__(self):\n",
    "        self.root = None\n",
    "\n",
    "    def insert(self, value):\n",
    "        node = Node(value)\n",
    "        if self.root is None:\n",
    "            self.root = node\n",
    "        else:\n",
    "            current = self.root\n",
    "            while True:\n",
    "                if value < current.value:\n",
    "                    if current.left is None:\n",
    "                        current.left = node\n",
    "                        break\n",
    "                    else:\n",
    "                        current = current.left\n",
    "                elif value > current.value:\n",
    "                    if current.right is None:\n",
    "                        current.right = node\n",
    "                        break\n",
    "                    else:\n",
    "                        current = current.right\n",
    "\n",
    "    def inorder_traversal(self, node, func):\n",
    "        if node is not None:\n",
    "            self.inorder_traversal(node.left, func)\n",
    "            func(node)\n",
    "            self.inorder_traversal(node.right, func)\n",
    "\n",
    "# Define the function to draw the node\n",
    "\n",
    "\n",
    "def draw_node(t, node, position):\n",
    "    t.penup()\n",
    "    t.goto(position)\n",
    "    t.pendown()\n",
    "    t.circle(20, extent=360)\n",
    "    t.penup()\n",
    "    t.goto(position)\n",
    "    t.write(str(node.value), align=\"center\")\n",
    "\n",
    "# Define the function to draw the line between nodes\n",
    "\n",
    "\n",
    "def draw_line(t, parent_position, child_position):\n",
    "    t.penup()\n",
    "    t.goto(parent_position)\n",
    "    t.pendown()\n",
    "    t.goto(child_position)\n",
    "\n",
    "# Define the function to draw the tree\n",
    "\n",
    "\n",
    "def draw_tree(t, tree):\n",
    "    if tree.root is not None:\n",
    "        def draw_node_wrapper(node):\n",
    "            draw_node(t, node, node_positions[node])\n",
    "\n",
    "        # Calculate the positions of the nodes\n",
    "        node_positions = {}\n",
    "\n",
    "        def calculate_positions(node, level, x, y):\n",
    "            if node is None:\n",
    "                return\n",
    "            node_positions[node] = (x, y)\n",
    "            y -= 50\n",
    "            calculate_positions(node.left, level + 1, x -\n",
    "                                2 ** (5 - level) * 10, y)\n",
    "            calculate_positions(node.right, level + 1,\n",
    "                                x + 2 ** (5 - level) * 10, y)\n",
    "\n",
    "        calculate_positions(tree.root, 1, 0, 200)\n",
    "\n",
    "        # Draw the nodes and lines\n",
    "        tree.inorder_traversal(tree.root, draw_node_wrapper)\n",
    "        for node, position in node_positions.items():\n",
    "            if node.left is not None:\n",
    "                draw_line(t, position, node_positions[node.left])\n",
    "            if node.right is not None:\n",
    "                draw_line(t, position, node_positions[node.right])\n",
    "\n",
    "# Main function to initialize the turtle and call the draw_tree function\n",
    "\n",
    "\n",
    "def main():\n",
    "    tree = Tree()\n",
    "    for values in my_tree:\n",
    "        tree.insert(values)\n",
    "\n",
    "    t = turtle.Turtle()\n",
    "    t.speed(0)\n",
    "    draw_tree(t, tree)\n",
    "    turtle.done()\n",
    "\n",
    "\n",
    "if __name__ == '__main__':\n",
    "    main()\n"
   ]
  },
  {
   "cell_type": "code",
   "execution_count": 4,
   "metadata": {},
   "outputs": [
    {
     "name": "stderr",
     "output_type": "stream",
     "text": [
      "Error: Could not open \"Digraph.gv.pdf\" for writing : Permission denied\n"
     ]
    },
    {
     "ename": "CalledProcessError",
     "evalue": "Command '[WindowsPath('dot'), '-Kdot', '-Tpdf', '-O', 'Digraph.gv']' returned non-zero exit status 1. [stderr: b'Error: Could not open \"Digraph.gv.pdf\" for writing : Permission denied\\r\\n']",
     "output_type": "error",
     "traceback": [
      "\u001b[1;31m---------------------------------------------------------------------------\u001b[0m",
      "\u001b[1;31mCalledProcessError\u001b[0m                        Traceback (most recent call last)",
      "File \u001b[1;32mc:\\Users\\Tafreed\\AppData\\Local\\Programs\\Python\\Python310\\lib\\site-packages\\graphviz\\backend\\execute.py:91\u001b[0m, in \u001b[0;36mrun_check\u001b[1;34m(cmd, input_lines, encoding, quiet, **kwargs)\u001b[0m\n\u001b[0;32m     90\u001b[0m \u001b[39mtry\u001b[39;00m:\n\u001b[1;32m---> 91\u001b[0m     proc\u001b[39m.\u001b[39;49mcheck_returncode()\n\u001b[0;32m     92\u001b[0m \u001b[39mexcept\u001b[39;00m subprocess\u001b[39m.\u001b[39mCalledProcessError \u001b[39mas\u001b[39;00m e:\n",
      "File \u001b[1;32mc:\\Users\\Tafreed\\AppData\\Local\\Programs\\Python\\Python310\\lib\\subprocess.py:456\u001b[0m, in \u001b[0;36mCompletedProcess.check_returncode\u001b[1;34m(self)\u001b[0m\n\u001b[0;32m    455\u001b[0m \u001b[39mif\u001b[39;00m \u001b[39mself\u001b[39m\u001b[39m.\u001b[39mreturncode:\n\u001b[1;32m--> 456\u001b[0m     \u001b[39mraise\u001b[39;00m CalledProcessError(\u001b[39mself\u001b[39m\u001b[39m.\u001b[39mreturncode, \u001b[39mself\u001b[39m\u001b[39m.\u001b[39margs, \u001b[39mself\u001b[39m\u001b[39m.\u001b[39mstdout,\n\u001b[0;32m    457\u001b[0m                              \u001b[39mself\u001b[39m\u001b[39m.\u001b[39mstderr)\n",
      "\u001b[1;31mCalledProcessError\u001b[0m: Command '[WindowsPath('dot'), '-Kdot', '-Tpdf', '-O', 'Digraph.gv']' returned non-zero exit status 1.",
      "\nDuring handling of the above exception, another exception occurred:\n",
      "\u001b[1;31mCalledProcessError\u001b[0m                        Traceback (most recent call last)",
      "\u001b[1;32mc:\\Users\\Tafreed\\Desktop\\Semester04\\AI-lab\\task#3\\hometask03.ipynb Cell 41\u001b[0m in \u001b[0;36m8\n\u001b[0;32m     <a href='vscode-notebook-cell:/c%3A/Users/Tafreed/Desktop/Semester04/AI-lab/task%233/hometask03.ipynb#X55sZmlsZQ%3D%3D?line=76'>77</a>\u001b[0m     dot\u001b[39m.\u001b[39mview()\n\u001b[0;32m     <a href='vscode-notebook-cell:/c%3A/Users/Tafreed/Desktop/Semester04/AI-lab/task%233/hometask03.ipynb#X55sZmlsZQ%3D%3D?line=79'>80</a>\u001b[0m \u001b[39mif\u001b[39;00m \u001b[39m__name__\u001b[39m \u001b[39m==\u001b[39m \u001b[39m'\u001b[39m\u001b[39m__main__\u001b[39m\u001b[39m'\u001b[39m:\n\u001b[1;32m---> <a href='vscode-notebook-cell:/c%3A/Users/Tafreed/Desktop/Semester04/AI-lab/task%233/hometask03.ipynb#X55sZmlsZQ%3D%3D?line=80'>81</a>\u001b[0m     main()\n",
      "\u001b[1;32mc:\\Users\\Tafreed\\Desktop\\Semester04\\AI-lab\\task#3\\hometask03.ipynb Cell 41\u001b[0m in \u001b[0;36m7\n\u001b[0;32m     <a href='vscode-notebook-cell:/c%3A/Users/Tafreed/Desktop/Semester04/AI-lab/task%233/hometask03.ipynb#X55sZmlsZQ%3D%3D?line=72'>73</a>\u001b[0m     tree\u001b[39m.\u001b[39minsert(val)\n\u001b[0;32m     <a href='vscode-notebook-cell:/c%3A/Users/Tafreed/Desktop/Semester04/AI-lab/task%233/hometask03.ipynb#X55sZmlsZQ%3D%3D?line=75'>76</a>\u001b[0m dot \u001b[39m=\u001b[39m create_graphviz_tree(tree)\n\u001b[1;32m---> <a href='vscode-notebook-cell:/c%3A/Users/Tafreed/Desktop/Semester04/AI-lab/task%233/hometask03.ipynb#X55sZmlsZQ%3D%3D?line=76'>77</a>\u001b[0m dot\u001b[39m.\u001b[39;49mview()\n",
      "File \u001b[1;32mc:\\Users\\Tafreed\\AppData\\Local\\Programs\\Python\\Python310\\lib\\site-packages\\graphviz\\_tools.py:171\u001b[0m, in \u001b[0;36mdeprecate_positional_args.<locals>.decorator.<locals>.wrapper\u001b[1;34m(*args, **kwargs)\u001b[0m\n\u001b[0;32m    162\u001b[0m     wanted \u001b[39m=\u001b[39m \u001b[39m'\u001b[39m\u001b[39m, \u001b[39m\u001b[39m'\u001b[39m\u001b[39m.\u001b[39mjoin(\u001b[39mf\u001b[39m\u001b[39m'\u001b[39m\u001b[39m{\u001b[39;00mname\u001b[39m}\u001b[39;00m\u001b[39m=\u001b[39m\u001b[39m{\u001b[39;00mvalue\u001b[39m!r}\u001b[39;00m\u001b[39m'\u001b[39m\n\u001b[0;32m    163\u001b[0m                        \u001b[39mfor\u001b[39;00m name, value \u001b[39min\u001b[39;00m deprecated\u001b[39m.\u001b[39mitems())\n\u001b[0;32m    164\u001b[0m     warnings\u001b[39m.\u001b[39mwarn(\u001b[39mf\u001b[39m\u001b[39m'\u001b[39m\u001b[39mThe signature of \u001b[39m\u001b[39m{\u001b[39;00mfunc\u001b[39m.\u001b[39m\u001b[39m__name__\u001b[39m\u001b[39m}\u001b[39;00m\u001b[39m will be reduced\u001b[39m\u001b[39m'\u001b[39m\n\u001b[0;32m    165\u001b[0m                   \u001b[39mf\u001b[39m\u001b[39m'\u001b[39m\u001b[39m to \u001b[39m\u001b[39m{\u001b[39;00msupported_number\u001b[39m}\u001b[39;00m\u001b[39m positional args\u001b[39m\u001b[39m'\u001b[39m\n\u001b[0;32m    166\u001b[0m                   \u001b[39mf\u001b[39m\u001b[39m'\u001b[39m\u001b[39m \u001b[39m\u001b[39m{\u001b[39;00m\u001b[39mlist\u001b[39m(supported)\u001b[39m}\u001b[39;00m\u001b[39m: pass \u001b[39m\u001b[39m{\u001b[39;00mwanted\u001b[39m}\u001b[39;00m\u001b[39m'\u001b[39m\n\u001b[0;32m    167\u001b[0m                   \u001b[39m'\u001b[39m\u001b[39m as keyword arg(s)\u001b[39m\u001b[39m'\u001b[39m,\n\u001b[0;32m    168\u001b[0m                   stacklevel\u001b[39m=\u001b[39mstacklevel,\n\u001b[0;32m    169\u001b[0m                   category\u001b[39m=\u001b[39mcategory)\n\u001b[1;32m--> 171\u001b[0m \u001b[39mreturn\u001b[39;00m func(\u001b[39m*\u001b[39margs, \u001b[39m*\u001b[39m\u001b[39m*\u001b[39mkwargs)\n",
      "File \u001b[1;32mc:\\Users\\Tafreed\\AppData\\Local\\Programs\\Python\\Python310\\lib\\site-packages\\graphviz\\rendering.py:185\u001b[0m, in \u001b[0;36mRender.view\u001b[1;34m(self, filename, directory, cleanup, quiet, quiet_view)\u001b[0m\n\u001b[0;32m    150\u001b[0m \u001b[39m@_tools\u001b[39m\u001b[39m.\u001b[39mdeprecate_positional_args(supported_number\u001b[39m=\u001b[39m\u001b[39m2\u001b[39m)\n\u001b[0;32m    151\u001b[0m \u001b[39mdef\u001b[39;00m \u001b[39mview\u001b[39m(\u001b[39mself\u001b[39m,\n\u001b[0;32m    152\u001b[0m          filename: typing\u001b[39m.\u001b[39mUnion[os\u001b[39m.\u001b[39mPathLike, \u001b[39mstr\u001b[39m, \u001b[39mNone\u001b[39;00m] \u001b[39m=\u001b[39m \u001b[39mNone\u001b[39;00m,\n\u001b[1;32m   (...)\u001b[0m\n\u001b[0;32m    155\u001b[0m          quiet: \u001b[39mbool\u001b[39m \u001b[39m=\u001b[39m \u001b[39mFalse\u001b[39;00m,\n\u001b[0;32m    156\u001b[0m          quiet_view: \u001b[39mbool\u001b[39m \u001b[39m=\u001b[39m \u001b[39mFalse\u001b[39;00m) \u001b[39m-\u001b[39m\u001b[39m>\u001b[39m \u001b[39mstr\u001b[39m:\n\u001b[0;32m    157\u001b[0m     \u001b[39m\"\"\"Save the source to file, open the rendered result in a viewer.\u001b[39;00m\n\u001b[0;32m    158\u001b[0m \n\u001b[0;32m    159\u001b[0m \u001b[39m    Convenience short-cut for running ``.render(view=True)``.\u001b[39;00m\n\u001b[1;32m   (...)\u001b[0m\n\u001b[0;32m    183\u001b[0m \u001b[39m        and no way to retrieve the application's exit status.\u001b[39;00m\n\u001b[0;32m    184\u001b[0m \u001b[39m    \"\"\"\u001b[39;00m\n\u001b[1;32m--> 185\u001b[0m     \u001b[39mreturn\u001b[39;00m \u001b[39mself\u001b[39;49m\u001b[39m.\u001b[39;49mrender(filename\u001b[39m=\u001b[39;49mfilename, directory\u001b[39m=\u001b[39;49mdirectory, view\u001b[39m=\u001b[39;49m\u001b[39mTrue\u001b[39;49;00m,\n\u001b[0;32m    186\u001b[0m                        cleanup\u001b[39m=\u001b[39;49mcleanup, quiet\u001b[39m=\u001b[39;49mquiet, quiet_view\u001b[39m=\u001b[39;49mquiet_view)\n",
      "File \u001b[1;32mc:\\Users\\Tafreed\\AppData\\Local\\Programs\\Python\\Python310\\lib\\site-packages\\graphviz\\_tools.py:171\u001b[0m, in \u001b[0;36mdeprecate_positional_args.<locals>.decorator.<locals>.wrapper\u001b[1;34m(*args, **kwargs)\u001b[0m\n\u001b[0;32m    162\u001b[0m     wanted \u001b[39m=\u001b[39m \u001b[39m'\u001b[39m\u001b[39m, \u001b[39m\u001b[39m'\u001b[39m\u001b[39m.\u001b[39mjoin(\u001b[39mf\u001b[39m\u001b[39m'\u001b[39m\u001b[39m{\u001b[39;00mname\u001b[39m}\u001b[39;00m\u001b[39m=\u001b[39m\u001b[39m{\u001b[39;00mvalue\u001b[39m!r}\u001b[39;00m\u001b[39m'\u001b[39m\n\u001b[0;32m    163\u001b[0m                        \u001b[39mfor\u001b[39;00m name, value \u001b[39min\u001b[39;00m deprecated\u001b[39m.\u001b[39mitems())\n\u001b[0;32m    164\u001b[0m     warnings\u001b[39m.\u001b[39mwarn(\u001b[39mf\u001b[39m\u001b[39m'\u001b[39m\u001b[39mThe signature of \u001b[39m\u001b[39m{\u001b[39;00mfunc\u001b[39m.\u001b[39m\u001b[39m__name__\u001b[39m\u001b[39m}\u001b[39;00m\u001b[39m will be reduced\u001b[39m\u001b[39m'\u001b[39m\n\u001b[0;32m    165\u001b[0m                   \u001b[39mf\u001b[39m\u001b[39m'\u001b[39m\u001b[39m to \u001b[39m\u001b[39m{\u001b[39;00msupported_number\u001b[39m}\u001b[39;00m\u001b[39m positional args\u001b[39m\u001b[39m'\u001b[39m\n\u001b[0;32m    166\u001b[0m                   \u001b[39mf\u001b[39m\u001b[39m'\u001b[39m\u001b[39m \u001b[39m\u001b[39m{\u001b[39;00m\u001b[39mlist\u001b[39m(supported)\u001b[39m}\u001b[39;00m\u001b[39m: pass \u001b[39m\u001b[39m{\u001b[39;00mwanted\u001b[39m}\u001b[39;00m\u001b[39m'\u001b[39m\n\u001b[0;32m    167\u001b[0m                   \u001b[39m'\u001b[39m\u001b[39m as keyword arg(s)\u001b[39m\u001b[39m'\u001b[39m,\n\u001b[0;32m    168\u001b[0m                   stacklevel\u001b[39m=\u001b[39mstacklevel,\n\u001b[0;32m    169\u001b[0m                   category\u001b[39m=\u001b[39mcategory)\n\u001b[1;32m--> 171\u001b[0m \u001b[39mreturn\u001b[39;00m func(\u001b[39m*\u001b[39margs, \u001b[39m*\u001b[39m\u001b[39m*\u001b[39mkwargs)\n",
      "File \u001b[1;32mc:\\Users\\Tafreed\\AppData\\Local\\Programs\\Python\\Python310\\lib\\site-packages\\graphviz\\rendering.py:122\u001b[0m, in \u001b[0;36mRender.render\u001b[1;34m(self, filename, directory, view, cleanup, format, renderer, formatter, neato_no_op, quiet, quiet_view, outfile, engine, raise_if_result_exists, overwrite_source)\u001b[0m\n\u001b[0;32m    118\u001b[0m filepath \u001b[39m=\u001b[39m \u001b[39mself\u001b[39m\u001b[39m.\u001b[39msave(filename, directory\u001b[39m=\u001b[39mdirectory, skip_existing\u001b[39m=\u001b[39m\u001b[39mNone\u001b[39;00m)\n\u001b[0;32m    120\u001b[0m args\u001b[39m.\u001b[39mappend(filepath)\n\u001b[1;32m--> 122\u001b[0m rendered \u001b[39m=\u001b[39m \u001b[39mself\u001b[39m\u001b[39m.\u001b[39m_render(\u001b[39m*\u001b[39margs, \u001b[39m*\u001b[39m\u001b[39m*\u001b[39mkwargs)\n\u001b[0;32m    124\u001b[0m \u001b[39mif\u001b[39;00m cleanup:\n\u001b[0;32m    125\u001b[0m     log\u001b[39m.\u001b[39mdebug(\u001b[39m'\u001b[39m\u001b[39mdelete \u001b[39m\u001b[39m%r\u001b[39;00m\u001b[39m'\u001b[39m, filepath)\n",
      "File \u001b[1;32mc:\\Users\\Tafreed\\AppData\\Local\\Programs\\Python\\Python310\\lib\\site-packages\\graphviz\\_tools.py:171\u001b[0m, in \u001b[0;36mdeprecate_positional_args.<locals>.decorator.<locals>.wrapper\u001b[1;34m(*args, **kwargs)\u001b[0m\n\u001b[0;32m    162\u001b[0m     wanted \u001b[39m=\u001b[39m \u001b[39m'\u001b[39m\u001b[39m, \u001b[39m\u001b[39m'\u001b[39m\u001b[39m.\u001b[39mjoin(\u001b[39mf\u001b[39m\u001b[39m'\u001b[39m\u001b[39m{\u001b[39;00mname\u001b[39m}\u001b[39;00m\u001b[39m=\u001b[39m\u001b[39m{\u001b[39;00mvalue\u001b[39m!r}\u001b[39;00m\u001b[39m'\u001b[39m\n\u001b[0;32m    163\u001b[0m                        \u001b[39mfor\u001b[39;00m name, value \u001b[39min\u001b[39;00m deprecated\u001b[39m.\u001b[39mitems())\n\u001b[0;32m    164\u001b[0m     warnings\u001b[39m.\u001b[39mwarn(\u001b[39mf\u001b[39m\u001b[39m'\u001b[39m\u001b[39mThe signature of \u001b[39m\u001b[39m{\u001b[39;00mfunc\u001b[39m.\u001b[39m\u001b[39m__name__\u001b[39m\u001b[39m}\u001b[39;00m\u001b[39m will be reduced\u001b[39m\u001b[39m'\u001b[39m\n\u001b[0;32m    165\u001b[0m                   \u001b[39mf\u001b[39m\u001b[39m'\u001b[39m\u001b[39m to \u001b[39m\u001b[39m{\u001b[39;00msupported_number\u001b[39m}\u001b[39;00m\u001b[39m positional args\u001b[39m\u001b[39m'\u001b[39m\n\u001b[0;32m    166\u001b[0m                   \u001b[39mf\u001b[39m\u001b[39m'\u001b[39m\u001b[39m \u001b[39m\u001b[39m{\u001b[39;00m\u001b[39mlist\u001b[39m(supported)\u001b[39m}\u001b[39;00m\u001b[39m: pass \u001b[39m\u001b[39m{\u001b[39;00mwanted\u001b[39m}\u001b[39;00m\u001b[39m'\u001b[39m\n\u001b[0;32m    167\u001b[0m                   \u001b[39m'\u001b[39m\u001b[39m as keyword arg(s)\u001b[39m\u001b[39m'\u001b[39m,\n\u001b[0;32m    168\u001b[0m                   stacklevel\u001b[39m=\u001b[39mstacklevel,\n\u001b[0;32m    169\u001b[0m                   category\u001b[39m=\u001b[39mcategory)\n\u001b[1;32m--> 171\u001b[0m \u001b[39mreturn\u001b[39;00m func(\u001b[39m*\u001b[39margs, \u001b[39m*\u001b[39m\u001b[39m*\u001b[39mkwargs)\n",
      "File \u001b[1;32mc:\\Users\\Tafreed\\AppData\\Local\\Programs\\Python\\Python310\\lib\\site-packages\\graphviz\\backend\\rendering.py:324\u001b[0m, in \u001b[0;36mrender\u001b[1;34m(engine, format, filepath, renderer, formatter, neato_no_op, quiet, outfile, raise_if_result_exists, overwrite_filepath)\u001b[0m\n\u001b[0;32m    320\u001b[0m     \u001b[39mraise\u001b[39;00m exceptions\u001b[39m.\u001b[39mFileExistsError(\u001b[39mf\u001b[39m\u001b[39m'\u001b[39m\u001b[39moutput file exists: \u001b[39m\u001b[39m{\u001b[39;00mos\u001b[39m.\u001b[39mfspath(outfile)\u001b[39m!r}\u001b[39;00m\u001b[39m'\u001b[39m)\n\u001b[0;32m    322\u001b[0m cmd \u001b[39m+\u001b[39m\u001b[39m=\u001b[39m args\n\u001b[1;32m--> 324\u001b[0m execute\u001b[39m.\u001b[39;49mrun_check(cmd,\n\u001b[0;32m    325\u001b[0m                   cwd\u001b[39m=\u001b[39;49mfilepath\u001b[39m.\u001b[39;49mparent \u001b[39mif\u001b[39;49;00m filepath\u001b[39m.\u001b[39;49mparent\u001b[39m.\u001b[39;49mparts \u001b[39melse\u001b[39;49;00m \u001b[39mNone\u001b[39;49;00m,\n\u001b[0;32m    326\u001b[0m                   quiet\u001b[39m=\u001b[39;49mquiet,\n\u001b[0;32m    327\u001b[0m                   capture_output\u001b[39m=\u001b[39;49m\u001b[39mTrue\u001b[39;49;00m)\n\u001b[0;32m    329\u001b[0m \u001b[39mreturn\u001b[39;00m os\u001b[39m.\u001b[39mfspath(outfile)\n",
      "File \u001b[1;32mc:\\Users\\Tafreed\\AppData\\Local\\Programs\\Python\\Python310\\lib\\site-packages\\graphviz\\backend\\execute.py:93\u001b[0m, in \u001b[0;36mrun_check\u001b[1;34m(cmd, input_lines, encoding, quiet, **kwargs)\u001b[0m\n\u001b[0;32m     91\u001b[0m     proc\u001b[39m.\u001b[39mcheck_returncode()\n\u001b[0;32m     92\u001b[0m \u001b[39mexcept\u001b[39;00m subprocess\u001b[39m.\u001b[39mCalledProcessError \u001b[39mas\u001b[39;00m e:\n\u001b[1;32m---> 93\u001b[0m     \u001b[39mraise\u001b[39;00m CalledProcessError(\u001b[39m*\u001b[39me\u001b[39m.\u001b[39margs)\n\u001b[0;32m     95\u001b[0m \u001b[39mreturn\u001b[39;00m proc\n",
      "\u001b[1;31mCalledProcessError\u001b[0m: Command '[WindowsPath('dot'), '-Kdot', '-Tpdf', '-O', 'Digraph.gv']' returned non-zero exit status 1. [stderr: b'Error: Could not open \"Digraph.gv.pdf\" for writing : Permission denied\\r\\n']"
     ]
    }
   ],
   "source": [
    "from graphviz import Digraph\n",
    "\n",
    "# Define the Node class\n",
    "\n",
    "\n",
    "class Node:\n",
    "    def __init__(self, value):\n",
    "        self.value = value\n",
    "        self.left = None\n",
    "        self.right = None\n",
    "\n",
    "# Define the Tree class\n",
    "\n",
    "\n",
    "class Tree:\n",
    "    def __init__(self):\n",
    "        self.root = None\n",
    "\n",
    "    def insert(self, value):\n",
    "        node = Node(value)\n",
    "        if self.root is None:\n",
    "            self.root = node\n",
    "        else:\n",
    "            current = self.root\n",
    "            while True:\n",
    "                if value < current.value:\n",
    "                    if current.left is None:\n",
    "                        current.left = node\n",
    "                        break\n",
    "                    else:\n",
    "                        current = current.left\n",
    "                elif value > current.value:\n",
    "                    if current.right is None:\n",
    "                        current.right = node\n",
    "                        break\n",
    "                    else:\n",
    "                        current = current.right\n",
    "\n",
    "    def inorder_traversal(self, node, func):\n",
    "        if node is not None:\n",
    "            self.inorder_traversal(node.left, func)\n",
    "            func(node)\n",
    "            self.inorder_traversal(node.right, func)\n",
    "\n",
    "    def inorder_list(self, node):\n",
    "        if node is None:\n",
    "            return []\n",
    "        left_list = self.inorder_list(node.left)\n",
    "        right_list = self.inorder_list(node.right)\n",
    "        return left_list + [node] + right_list\n",
    "\n",
    "# Define the function to create the graphviz tree\n",
    "\n",
    "\n",
    "def create_graphviz_tree(tree):\n",
    "    dot = Digraph()\n",
    "    nodes = tree.inorder_list(tree.root)\n",
    "    for node in nodes:\n",
    "        dot.node(str(node.value))\n",
    "        if node.left is not None:\n",
    "            dot.edge(str(node.value), str(node.left.value))\n",
    "        if node.right is not None:\n",
    "            dot.edge(str(node.value), str(node.right.value))\n",
    "\n",
    "    return dot\n",
    "\n",
    "# Main function to create the binary search tree and visualize it using graphviz\n",
    "\n",
    "\n",
    "def main():\n",
    "    tree = Tree()\n",
    "    for val in my_tree:\n",
    "        tree.insert(val)\n",
    "    \n",
    "\n",
    "    dot = create_graphviz_tree(tree)\n",
    "    dot.view()\n",
    "\n",
    "\n",
    "if __name__ == '__main__':\n",
    "    main()\n"
   ]
  },
  {
   "attachments": {},
   "cell_type": "markdown",
   "metadata": {},
   "source": [
    "Task #4"
   ]
  },
  {
   "cell_type": "code",
   "execution_count": null,
   "metadata": {},
   "outputs": [],
   "source": [
    "dd = {'s':[('a',3),('b',2),('c',4)],\n",
    "    'a':[('d',1)],\n",
    "    'b':[('e',8),('f',7),('d',1)],\n",
    "    'c':[('e',1),('j',3)],\n",
    "    'd':[('f',1),('h',1)],\n",
    "    'e':[('g',1)],\n",
    "    'f':[('g',5)],\n",
    "    'h':[('g',1),('f',3)],\n",
    "    'j':[('e',2)],\n",
    "    'g':[]}"
   ]
  },
  {
   "cell_type": "code",
   "execution_count": null,
   "metadata": {},
   "outputs": [],
   "source": [
    "def build_dcit(lis):\n",
    "    di = {}\n",
    "\n",
    "    for i in lis:\n",
    "        name = i[0]\n",
    "        cost = i[1]\n",
    "        di[name] = cost\n",
    "    return di\n"
   ]
  },
  {
   "cell_type": "code",
   "execution_count": null,
   "metadata": {},
   "outputs": [],
   "source": [
    "def my(x):\n",
    "    return x[1]\n"
   ]
  },
  {
   "cell_type": "code",
   "execution_count": null,
   "metadata": {},
   "outputs": [
    {
     "name": "stdout",
     "output_type": "stream",
     "text": [
      "Queue :   [('s', 0)]\n",
      "child pop:  ('s', 0)\n",
      "Explored:  ['s']\n",
      "current child:  [('a', 3), ('b', 2), ('c', 4)]\n",
      "('a', 3)\n",
      "('a', 3) , parent cost (0) + child cost (3) = 3\n",
      "('b', 2)\n",
      "('b', 2) , parent cost (0) + child cost (2) = 2\n",
      "('c', 4)\n",
      "('c', 4) , parent cost (0) + child cost (4) = 4\n",
      "**************************************************\n",
      "Queue :   [('b', 2), ('a', 3), ('c', 4)]\n",
      "child pop:  ('b', 2)\n",
      "Explored:  ['s', 'b']\n",
      "current child:  [('e', 8), ('f', 7), ('d', 1)]\n",
      "('e', 8)\n",
      "('e', 8) , parent cost (2) + child cost (8) = 10\n",
      "('f', 7)\n",
      "('f', 7) , parent cost (2) + child cost (7) = 9\n",
      "('d', 1)\n",
      "('d', 1) , parent cost (2) + child cost (1) = 3\n",
      "**************************************************\n",
      "Queue :   [('a', 3), ('d', 3), ('c', 4), ('f', 9), ('e', 10)]\n",
      "child pop:  ('a', 3)\n",
      "Explored:  ['s', 'b', 'a']\n",
      "current child:  [('d', 1)]\n",
      "('d', 1)\n",
      "('d', 1) , parent cost (3) + child cost (1) = 4\n",
      "**************************************************\n",
      "Queue :   [('d', 3), ('c', 4), ('f', 9), ('e', 10)]\n",
      "child pop:  ('d', 3)\n",
      "Explored:  ['s', 'b', 'a', 'd']\n",
      "current child:  [('f', 1), ('h', 1)]\n",
      "('f', 1)\n",
      "('f', 1) , parent cost (3) + child cost (1) = 4\n",
      "('h', 1)\n",
      "('h', 1) , parent cost (3) + child cost (1) = 4\n",
      "**************************************************\n",
      "Queue :   [('c', 4), ('f', 4), ('h', 4), ('e', 10)]\n",
      "child pop:  ('c', 4)\n",
      "Explored:  ['s', 'b', 'a', 'd', 'c']\n",
      "current child:  [('e', 1), ('j', 3)]\n",
      "('e', 1)\n",
      "('e', 1) , parent cost (4) + child cost (1) = 5\n",
      "('j', 3)\n",
      "('j', 3) , parent cost (4) + child cost (3) = 7\n",
      "**************************************************\n",
      "Queue :   [('f', 4), ('h', 4), ('e', 5), ('j', 7)]\n",
      "child pop:  ('f', 4)\n",
      "Explored:  ['s', 'b', 'a', 'd', 'c', 'f']\n",
      "current child:  [('g', 5)]\n",
      "('g', 5)\n",
      "('g', 5) , parent cost (4) + child cost (5) = 9\n",
      "**************************************************\n",
      "Queue :   [('h', 4), ('e', 5), ('j', 7), ('g', 9)]\n",
      "child pop:  ('h', 4)\n",
      "Explored:  ['s', 'b', 'a', 'd', 'c', 'f', 'h']\n",
      "current child:  [('g', 1), ('f', 3)]\n",
      "('g', 1)\n",
      "('g', 1) , parent cost (4) + child cost (1) = 5\n",
      "('f', 3)\n",
      "('f', 3) , parent cost (4) + child cost (3) = 7\n",
      "**************************************************\n",
      "Queue :   [('e', 5), ('g', 5), ('j', 7)]\n",
      "child pop:  ('e', 5)\n",
      "Explored:  ['s', 'b', 'a', 'd', 'c', 'f', 'h', 'e']\n",
      "current child:  [('g', 1)]\n",
      "('g', 1)\n",
      "('g', 1) , parent cost (5) + child cost (1) = 6\n",
      "**************************************************\n",
      "Queue :   [('g', 5), ('j', 7)]\n",
      "child pop:  ('g', 5)\n"
     ]
    },
    {
     "data": {
      "text/plain": [
       "['s', 'b', 'a', 'd', 'c', 'f', 'h', 'e', 'g']"
      ]
     },
     "execution_count": 10,
     "metadata": {},
     "output_type": "execute_result"
    }
   ],
   "source": [
    "def UCS(d,goal):\n",
    "    \n",
    "    q = []\n",
    "    q.append(('s',0))\n",
    "    explored = []\n",
    "    \n",
    "    while len(q)>0:\n",
    "\n",
    "        print('Queue :  ',q)\n",
    "        node = q.pop(0)\n",
    "        print('child pop: ',node) # node[0] --> node name AND node[1] --> cost\n",
    "        \n",
    "        if node[0] not in explored:\n",
    "            explored.append(node[0])\n",
    "        \n",
    "        if node[0] == goal:\n",
    "            return explored \n",
    "        \n",
    "        print('Explored: ',explored)\n",
    "\n",
    "        child = d.get(node[0])\n",
    "        print('current child: ',child)\n",
    "        \n",
    "        for i in child:\n",
    "            print(i)\n",
    "            \n",
    "            cost =  i[1] + node[1]\n",
    "            name = i[0]\n",
    "            new = (name,cost)\n",
    "\n",
    "            \n",
    "            print('{} , parent cost ({}) + child cost ({}) = {}'.format(i,node[1],i[1],cost))\n",
    "            #print('////\\\\\\\\ ',new)\n",
    "            \n",
    "            \n",
    "            if new[0] not in explored and new[0] not in build_dcit(q):\n",
    "                \n",
    "                q.append(new) \n",
    "                \n",
    "            \n",
    "                \n",
    "            elif new[0] in build_dcit(q):\n",
    "                #rint('[[[[[[[[[[[[[[[duplicate]]]]]]]]]]]]]]]')\n",
    "\n",
    "                #rint(new[0],build_dcit(q)[new[0]])\n",
    "\n",
    "                old_data = build_dcit(q)\n",
    "                old_cost = old_data[new[0]]\n",
    "                old_name = new[0]\n",
    "                old = (old_name,old_cost)\n",
    "\n",
    "                #rint(old)\n",
    "                #rint('NNNNNNNNNNNNNNNNNNNNNN',new , node)\n",
    "                if new[1] < old[1]:\n",
    "                    #rint('^^^^^^^*******%%%%%%%% in if')\n",
    "                    inde = q.index(old)\n",
    "                    q[inde] = new\n",
    "                else:\n",
    "                    pass\n",
    "\n",
    "        \n",
    "        q = sorted(q,key= my)\n",
    "        #print(q)\n",
    "        print(50*'*')\n",
    "        \n",
    "    \n",
    "UCS(dd,'g')"
   ]
  },
  {
   "attachments": {},
   "cell_type": "markdown",
   "metadata": {},
   "source": [
    "Now you must creat a code that accepts the graph value created in the graph editor as \n",
    "described in task 1. And converted to dictionary format, as we did in the lab. Review the \n",
    "UCS code for assistance"
   ]
  },
  {
   "attachments": {},
   "cell_type": "markdown",
   "metadata": {},
   "source": [
    "Apply UCS on arad graph"
   ]
  },
  {
   "cell_type": "code",
   "execution_count": null,
   "metadata": {},
   "outputs": [],
   "source": [
    "graph = {\n",
    "    'Arad': [('Sibiu', 140), ('Timisoara', 118), ('Zerind', 75)],\n",
    "    'Sibiu': [('Arad', 140), ('Oradea', 151), ('Fagaras', 99), ('Rimnicu', 80)],\n",
    "    'Timisoara': [('Arad', 118), ('Lugoj', 111)],\n",
    "    'Zerind': [('Arad', 75), ('Oradea', 71)],\n",
    "    'Oradea': [('Zerind', 71), ('Sibiu', 151)],\n",
    "    'Fagaras': [('Sibiu', 99), ('Bucharest', 211)],\n",
    "    'Rimnicu': [('Sibiu', 80), ('Craivo', 146), ('Pitesti', 97)],\n",
    "    'Lugoj': [('Timisoara', 111), ('Mehadia', 70)],\n",
    "    'Bucharest': [('Giurgiu', 90), ('Urziceni', 85), ('Pitesti', 101), ('Fagaras', 211)],\n",
    "    'Craivo': [('Dobreta', 120), ('Pitesti', 138), ('Rimnicu', 146)],\n",
    "    'Pitesti': [('Rimnicu', 97), ('Craivo', 138), ('Bucharest', 101)],\n",
    "    'Mehadia': [('Dobreta', 75), ('Lugoj', 70)],\n",
    "    'Giurgiu': [('Bucharest', 90)],\n",
    "    'Urziceni': [('Bucharest', 85), ('Hirsova', 98), ('Vaslui', 142)],\n",
    "    'Dobreta': [('Mehadia', 75), ('Craivo', 120)],\n",
    "    'Hirsova': [('Eforie', 86), ('Urziceni', 98)],\n",
    "    'Vaslui': [('Urziceni', 142), ('Lasi', 92)],\n",
    "    'Eforie': [('Hirsova', 86)],\n",
    "    'Lasi': [('Neamt', 87), ('Vaslui', 92)],\n",
    "    'Neamt': [('Lasi', 87)],\n",
    "}\n"
   ]
  },
  {
   "cell_type": "code",
   "execution_count": null,
   "metadata": {},
   "outputs": [
    {
     "name": "stdout",
     "output_type": "stream",
     "text": [
      "Queue :   [('Arad', 0)]\n",
      "**************************************************\n",
      "Queue :   [('Zerind', 75), ('Timisoara', 118), ('Sibiu', 140)]\n",
      "**************************************************\n",
      "Queue :   [('Timisoara', 118), ('Sibiu', 140), ('Oradea', 146)]\n",
      "**************************************************\n",
      "Queue :   [('Sibiu', 140), ('Oradea', 146), ('Lugoj', 229)]\n",
      "**************************************************\n",
      "Queue :   [('Oradea', 146), ('Rimnicu', 220), ('Lugoj', 229), ('Fagaras', 239)]\n",
      "**************************************************\n",
      "Queue :   [('Rimnicu', 220), ('Lugoj', 229), ('Fagaras', 239)]\n",
      "**************************************************\n",
      "Queue :   [('Lugoj', 229), ('Fagaras', 239), ('Pitesti', 317), ('Craivo', 366)]\n",
      "**************************************************\n",
      "Queue :   [('Fagaras', 239), ('Mehadia', 299), ('Pitesti', 317), ('Craivo', 366)]\n",
      "**************************************************\n",
      "Queue :   [('Mehadia', 299), ('Pitesti', 317), ('Craivo', 366), ('Bucharest', 450)]\n",
      "**************************************************\n",
      "Queue :   [('Pitesti', 317), ('Craivo', 366), ('Dobreta', 374), ('Bucharest', 450)]\n",
      "**************************************************\n",
      "Queue :   [('Craivo', 366), ('Dobreta', 374), ('Bucharest', 418)]\n",
      "**************************************************\n",
      "Queue :   [('Dobreta', 374), ('Bucharest', 418)]\n",
      "**************************************************\n",
      "Queue :   [('Bucharest', 418)]\n"
     ]
    },
    {
     "data": {
      "text/plain": [
       "['Arad',\n",
       " 'Zerind',\n",
       " 'Timisoara',\n",
       " 'Sibiu',\n",
       " 'Oradea',\n",
       " 'Rimnicu',\n",
       " 'Lugoj',\n",
       " 'Fagaras',\n",
       " 'Mehadia',\n",
       " 'Pitesti',\n",
       " 'Craivo',\n",
       " 'Dobreta',\n",
       " 'Bucharest']"
      ]
     },
     "execution_count": 5,
     "metadata": {},
     "output_type": "execute_result"
    }
   ],
   "source": [
    "def UCS_new(d,goal):\n",
    "    \n",
    "    q = []\n",
    "    q.append(('Arad', 0))\n",
    "    explored = []\n",
    "    \n",
    "    while len(q)>0:\n",
    "\n",
    "        print('Queue :  ',q)\n",
    "        node = q.pop(0)   \n",
    "        \n",
    "        if node[0] not in explored:\n",
    "            explored.append(node[0])\n",
    "        \n",
    "        if node[0] == goal:\n",
    "            return explored \n",
    "        \n",
    "        child = d.get(node[0])\n",
    "              \n",
    "        for i in child:\n",
    "\n",
    "            cost =  i[1] + node[1]\n",
    "            name = i[0]\n",
    "            new = (name,cost)\n",
    "\n",
    "            if new[0] not in explored and new[0] not in build_dcit(q):\n",
    "                q.append(new) \n",
    "\n",
    "            elif new[0] in build_dcit(q):\n",
    "\n",
    "                old_data = build_dcit(q)\n",
    "                old_cost = old_data[new[0]]\n",
    "                old_name = new[0]\n",
    "                old = (old_name,old_cost)\n",
    "\n",
    "                if new[1] < old[1]:\n",
    "\n",
    "                    inde = q.index(old)\n",
    "                    q[inde] = new\n",
    "                else:\n",
    "                    pass\n",
    "\n",
    "        \n",
    "        q = sorted(q,key= my)\n",
    "        print(50*'*')\n",
    "        \n",
    "    \n",
    "UCS_new(graph,'Bucharest')"
   ]
  },
  {
   "cell_type": "code",
   "execution_count": null,
   "metadata": {},
   "outputs": [
    {
     "name": "stdout",
     "output_type": "stream",
     "text": [
      "Result : ['Arad', 'Zerind', 'Timisoara', 'Sibiu', 'Rimnicu', 'Craivo', 'Dobreta', 'Mehadia', 'Pitesti', 'Bucharest'] ['Arad', 'Zerind', 'Timisoara', 'Sibiu', 'Rimnicu', 'Craivo', 'Dobreta', 'Mehadia', 'Pitesti'] 9\n"
     ]
    }
   ],
   "source": [
    "def GBFS(start,goal):\n",
    "    \n",
    "    q = []\n",
    "    start_val = graph.get(start)\n",
    "    q.append((start,start_val))\n",
    "    explored = []\n",
    "    expanded = []\n",
    "    \n",
    "    while len(q)>0:\n",
    "\n",
    "\n",
    "        node = q.pop(0)\n",
    "\n",
    "        if node[0] not in explored:\n",
    "            explored.append(node[0])\n",
    "        \n",
    "        if node[0] == goal:\n",
    "            print('Result :',explored,expanded,len(expanded))\n",
    "            return\n",
    "\n",
    "        child = graph.get(node[0])\n",
    " \n",
    "        for i in child:\n",
    "            n_key = i[0]\n",
    "            n_val = graph.get(n_key)\n",
    "            n_tuple = n_key,n_val   \n",
    "\n",
    "            if i[0] not in explored and i[0] not in build_dcit(q):\n",
    "                q.append(n_tuple)\n",
    "        expanded.append(node[0])\n",
    "            \n",
    "        q = sorted(q,key= my)\n",
    "    return explored,expanded,len(expanded)\n",
    "        \n",
    "    \n",
    "GBFS('Arad','Bucharest')"
   ]
  },
  {
   "attachments": {},
   "cell_type": "markdown",
   "metadata": {},
   "source": [
    "To find the exact path we will have to use heuristic values."
   ]
  },
  {
   "cell_type": "code",
   "execution_count": null,
   "metadata": {},
   "outputs": [],
   "source": [
    "graph = {\n",
    "    'Arad': [('Sibiu', 140, 253), ('Timisoara', 118, 329), ('Zerind', 75, 374)],\n",
    "    'Sibiu': [('Arad', 140, 366), ('Oradea', 151, 380), ('Fagaras', 99, 178), ('Rimnicu', 80, 193)],\n",
    "    'Timisoara': [('Arad', 118, 366), ('Lugoj', 111, 244)],\n",
    "    'Zerind': [('Arad', 75, 366), ('Oradea', 71, 380)],\n",
    "    'Oradea': [('Zerind', 71, 374), ('Sibiu', 151, 253)],\n",
    "    'Fagaras': [('Sibiu', 99, 253), ('Bucharest', 211)],\n",
    "    'Rimnicu': [('Sibiu', 80, 253), ('Craivo', 146, 160), ('Pitesti', 97, 98)],\n",
    "    'Lugoj': [('Timisoara', 111, 329), ('Mehadia', 70, 241)],\n",
    "    'Bucharest': [('Giurgiu', 90, 77), ('Urziceni', 85, 80), ('Pitesti', 101, 98), ('Fagaras', 211, 178)],\n",
    "    'Craivo': [('Dobreta', 120, 242), ('Pitesti', 138, 98), ('Rimnicu', 146, 193)],\n",
    "    'Pitesti': [('Rimnicu', 97, 193), ('Craivo', 138, 160), ('Bucharest', 101, 0)],\n",
    "    'Mehadia': [('Dobreta', 75, 242), ('Lugoj', 70, 244)],\n",
    "    'Giurgiu': [('Bucharest', 90, 0)],\n",
    "    'Urziceni': [('Bucharest', 85, 0), ('Hirsova', 98, 151), ('Vaslui', 142, 199)],\n",
    "    'Dobreta': [('Mehadia', 75, 241), ('Craivo', 120, 160)],\n",
    "    'Hirsova': [('Eforie', 86, 161), ('Urziceni', 98, 80)],\n",
    "    'Vaslui': [('Urziceni', 142, 80), ('Lasi', 92, 226)],\n",
    "    'Eforie': [('Hirsova', 86, 151)],\n",
    "    'Lasi': [('Neamt', 87, 234), ('Vaslui', 92, 199)],\n",
    "    'Neamt': [('Lasi', 87, 226)],\n",
    "}\n"
   ]
  },
  {
   "attachments": {},
   "cell_type": "markdown",
   "metadata": {},
   "source": [
    "We are using priority queue in the above UCS function to get the exact and the minimum path."
   ]
  },
  {
   "cell_type": "code",
   "execution_count": null,
   "metadata": {},
   "outputs": [],
   "source": [
    "def UCS_new(d, start, goal):\n",
    "\n",
    "    pq = [(0, start, [])]\n",
    "    explored = set()\n",
    "    cost = {start: 0}\n",
    "\n",
    "    while pq:\n",
    "\n",
    "        node = pq.pop(0)\n",
    "        current_cost, current_node, current_path = node\n",
    "\n",
    "        explored.add(current_node)\n",
    "\n",
    "        if current_node == goal:\n",
    "            return current_path + [current_node]\n",
    "\n",
    "        # Check the neighbors of the current node\n",
    "        for neighbor, weight in d[current_node]:\n",
    "\n",
    "            new_cost = current_cost + weight\n",
    "\n",
    "            if neighbor not in explored or new_cost < cost[neighbor]:\n",
    "\n",
    "                # Update the cost of the neighbor\n",
    "                cost[neighbor] = new_cost\n",
    "\n",
    "                # Add the neighbor to the priority queue\n",
    "                new_path = current_path + [current_node]\n",
    "                pq.append((new_cost, neighbor, new_path))\n",
    "\n",
    "        pq.sort()\n",
    "\n",
    "    return None\n"
   ]
  },
  {
   "cell_type": "code",
   "execution_count": null,
   "metadata": {},
   "outputs": [
    {
     "name": "stdout",
     "output_type": "stream",
     "text": [
      "['Arad', 'Sibiu', 'Rimnicu', 'Pitesti', 'Bucharest']\n"
     ]
    }
   ],
   "source": [
    "path = UCS_new(graph, 'Arad', 'Bucharest')\n",
    "print(path)\n"
   ]
  },
  {
   "attachments": {},
   "cell_type": "markdown",
   "metadata": {},
   "source": [
    "Task #5\n",
    "\n",
    "Visualize the Task 4 part 1 graph using networkx library. \n",
    "Visualize the Arad map graph (impressive designing should be high value, your graph should be \n",
    "exact like Arad, your graph should not be move, Arad node should be in same place as shown in \n",
    "book)"
   ]
  },
  {
   "cell_type": "code",
   "execution_count": null,
   "metadata": {},
   "outputs": [
    {
     "data": {
      "image/png": "[encoded data removed]",
      "text/plain": [
       "<Figure size 640x480 with 1 Axes>"
      ]
     },
     "metadata": {},
     "output_type": "display_data"
    }
   ],
   "source": [
    "import networkx as nx\n",
    "import matplotlib.pyplot as plt\n",
    "\n",
    "G = nx.Graph()\n",
    "\n",
    "# Add nodes\n",
    "for node in graph:\n",
    "    G.add_node(node)\n",
    "\n",
    "# Add edges and edge weights\n",
    "for node in graph:\n",
    "    for edge in graph[node]:\n",
    "        G.add_edge(node, edge[0], weight=edge[1])\n",
    "\n",
    "# Set positions of nodes\n",
    "pos = nx.spring_layout(G)\n",
    "\n",
    "# Draw nodes and edges with labels\n",
    "nx.draw_networkx_nodes(G, pos)\n",
    "nx.draw_networkx_edges(G, pos)\n",
    "nx.draw_networkx_edge_labels(\n",
    "    G, pos, edge_labels=nx.get_edge_attributes(G, 'weight'))\n",
    "nx.draw_networkx_labels(G, pos)\n",
    "\n",
    "plt.show()\n"
   ]
  },
  {
   "cell_type": "code",
   "execution_count": null,
   "metadata": {},
   "outputs": [
    {
     "data": {
      "image/png": "[encoded data removed]",
      "text/plain": [
       "<Figure size 640x480 with 1 Axes>"
      ]
     },
     "metadata": {},
     "output_type": "display_data"
    }
   ],
   "source": [
    "import networkx as nx\n",
    "import matplotlib.pyplot as plt\n",
    "\n",
    "\n",
    "# Create a directed graph object\n",
    "G = nx.DiGraph()\n",
    "\n",
    "# Add nodes to the graph\n",
    "G.add_nodes_from(graph.keys())\n",
    "\n",
    "# Add edges to the graph\n",
    "for node, edges in graph.items():\n",
    "    for edge in edges:\n",
    "        G.add_edge(node, edge[0], weight=edge[1])\n",
    "\n",
    "# Draw the graph\n",
    "pos = nx.spring_layout(G)\n",
    "nx.draw(G, pos, with_labels=True)\n",
    "\n",
    "# Add edge labels to the graph\n",
    "edge_labels = {(node, neighbor): weight['weight']\n",
    "               for node, neighbor, weight in G.edges(data=True)}\n",
    "nx.draw_networkx_edge_labels(G, pos, edge_labels=edge_labels, font_color='red')\n",
    "\n",
    "plt.show()\n"
   ]
  },
  {
   "cell_type": "code",
   "execution_count": null,
   "metadata": {},
   "outputs": [
    {
     "data": {
      "image/png": "[encoded data removed]",
      "text/plain": [
       "<Figure size 640x480 with 1 Axes>"
      ]
     },
     "metadata": {},
     "output_type": "display_data"
    }
   ],
   "source": [
    "import networkx as nx\n",
    "import matplotlib.pyplot as plt\n",
    "\n",
    "# Define the graph\n",
    "G = nx.Graph()\n",
    "\n",
    "# Add edges and weights\n",
    "G.add_edge('Arad', 'Sibiu', weight=140)\n",
    "G.add_edge('Arad', 'Timisoara', weight=118)\n",
    "G.add_edge('Arad', 'Zerind', weight=75)\n",
    "G.add_edge('Sibiu', 'Oradea', weight=151)\n",
    "G.add_edge('Sibiu', 'Fagaras', weight=99)\n",
    "G.add_edge('Sibiu', 'Rimnicu', weight=80)\n",
    "G.add_edge('Timisoara', 'Lugoj', weight=111)\n",
    "G.add_edge('Zerind', 'Oradea', weight=71)\n",
    "G.add_edge('Fagaras', 'Bucharest', weight=211)\n",
    "G.add_edge('Rimnicu', 'Craivo', weight=146)\n",
    "G.add_edge('Rimnicu', 'Pitesti', weight=97)\n",
    "G.add_edge('Lugoj', 'Mehadia', weight=70)\n",
    "G.add_edge('Bucharest', 'Giurgiu', weight=90)\n",
    "G.add_edge('Bucharest', 'Pitesti', weight=101)\n",
    "G.add_edge('Bucharest', 'Urziceni', weight=85)\n",
    "G.add_edge('Craivo', 'Dobreta', weight=120)\n",
    "G.add_edge('Craivo', 'Pitesti', weight=138)\n",
    "G.add_edge('Mehadia', 'Dobreta', weight=75)\n",
    "G.add_edge('Urziceni', 'Hirsova', weight=98)\n",
    "G.add_edge('Urziceni', 'Vaslui', weight=142)\n",
    "G.add_edge('Eforie', 'Hirsova', weight=86)\n",
    "G.add_edge('Lasi', 'Neamt', weight=87)\n",
    "G.add_edge('Lasi', 'Vaslui', weight=92)\n",
    "\n",
    "# Define the layout of the graph\n",
    "pos = nx.spring_layout(G)\n",
    "\n",
    "# Draw nodes and edges\n",
    "nx.draw_networkx_nodes(G, pos, node_size=500, node_color='lightblue')\n",
    "nx.draw_networkx_edges(G, pos, width=2, edge_color='gray')\n",
    "\n",
    "# Draw edge labels\n",
    "edge_labels = nx.get_edge_attributes(G, 'weight')\n",
    "nx.draw_networkx_edge_labels(G, pos, edge_labels=edge_labels, font_size=12)\n",
    "\n",
    "# Draw node labels\n",
    "node_labels = {node: node for node in G.nodes()}\n",
    "nx.draw_networkx_labels(G, pos, labels=node_labels, font_size=14)\n",
    "\n",
    "# Show the plot\n",
    "plt.axis('off')\n",
    "plt.show()\n"
   ]
  },
  {
   "cell_type": "code",
   "execution_count": null,
   "metadata": {},
   "outputs": [
    {
     "data": {
      "image/png": "[encoded data removed]",
      "text/plain": [
       "<Figure size 640x480 with 1 Axes>"
      ]
     },
     "metadata": {},
     "output_type": "display_data"
    }
   ],
   "source": [
    "import networkx as nx\n",
    "import matplotlib.pyplot as plt\n",
    "\n",
    "G = nx.Graph()\n",
    "\n",
    "edges = [\n",
    "    ('Arad', 'Sibiu', 140), ('Arad', 'Timisoara', 118), ('Arad', 'Zerind', 75),\n",
    "    ('Sibiu', 'Oradea', 151), ('Sibiu', 'Fagaras',\n",
    "                               99), ('Sibiu', 'Rimnicu Vilcea', 80),\n",
    "    ('Timisoara', 'Lugoj', 111),\n",
    "    ('Zerind', 'Oradea', 71),\n",
    "    ('Oradea', 'Bucharest', 151),\n",
    "    ('Fagaras', 'Bucharest', 211),\n",
    "    ('Rimnicu Vilcea', 'Craiova', 146), ('Rimnicu Vilcea', 'Pitesti', 97),\n",
    "    ('Lugoj', 'Mehadia', 70),\n",
    "    ('Bucharest', 'Giurgiu', 90), ('Bucharest',\n",
    "                                   'Urziceni', 85), ('Bucharest', 'Pitesti', 101),\n",
    "    ('Craiova', 'Dobreta', 120),\n",
    "    ('Pitesti', 'Craiova', 138),\n",
    "    ('Mehadia', 'Dobreta', 75),\n",
    "    ('Urziceni', 'Hirsova', 98), ('Urziceni', 'Vaslui', 142),\n",
    "    ('Hirsova', 'Eforie', 86),\n",
    "    ('Vaslui', 'Lasi', 92),\n",
    "    ('Lasi', 'Neamt', 87)\n",
    "]\n",
    "\n",
    "G.add_weighted_edges_from(edges)\n",
    "\n",
    "pos = nx.spring_layout(G, seed=42)\n",
    "\n",
    "nx.draw_networkx_edges(G, pos, edgelist=edges, width=2)\n",
    "nx.draw_networkx_nodes(G, pos, node_size=500, node_color='lightblue')\n",
    "nx.draw_networkx_labels(G, pos, font_size=12, font_family='sans-serif')\n",
    "\n",
    "edge_labels = {(u, v): d['weight'] for u, v, d in G.edges(data=True)}\n",
    "nx.draw_networkx_edge_labels(\n",
    "    G, pos, edge_labels=edge_labels, font_size=10, font_family='sans-serif')\n",
    "\n",
    "plt.axis('off')\n",
    "plt.show()\n"
   ]
  },
  {
   "attachments": {},
   "cell_type": "markdown",
   "metadata": {},
   "source": [
    "Apply BFS and UCS on N-Queen problem."
   ]
  },
  {
   "cell_type": "code",
   "execution_count": null,
   "metadata": {},
   "outputs": [
    {
     "name": "stdout",
     "output_type": "stream",
     "text": [
      "[1, 3, 0, 2]\n"
     ]
    }
   ],
   "source": [
    "from queue import Queue\n",
    "\n",
    "\n",
    "def is_valid(state):\n",
    "    # Check if no two queens threaten each other\n",
    "    for i in range(len(state)):\n",
    "        for j in range(i+1, len(state)):\n",
    "            if state[i] == state[j] or abs(state[i]-state[j]) == j-i:\n",
    "                return False\n",
    "    return True\n",
    "\n",
    "\n",
    "def bfs(n):\n",
    "    visited = set()\n",
    "    queue = Queue()\n",
    "    queue.put([])\n",
    "    while not queue.empty():\n",
    "        current_state = queue.get()\n",
    "        if len(current_state) == n:\n",
    "            return current_state\n",
    "        for i in range(n):\n",
    "            if i not in current_state:\n",
    "                next_state = current_state + [i]\n",
    "                if is_valid(next_state):\n",
    "                    queue.put(next_state)\n",
    "                    visited.add(tuple(next_state))\n",
    "    return None\n",
    "\n",
    "\n",
    "print(bfs(4))\n"
   ]
  },
  {
   "cell_type": "code",
   "execution_count": null,
   "metadata": {},
   "outputs": [
    {
     "name": "stdout",
     "output_type": "stream",
     "text": [
      "None\n"
     ]
    }
   ],
   "source": [
    "import heapq\n",
    "import itertools\n",
    "\n",
    "\n",
    "def is_valid(state):\n",
    "    # Check if no two queens threaten each other\n",
    "    for i in range(len(state)):\n",
    "        for j in range(i+1, len(state)):\n",
    "            if state[i] == state[j] or abs(state[i]-state[j]) == j-i:\n",
    "                return False\n",
    "    return True\n",
    "\n",
    "\n",
    "def goal_test(state):\n",
    "    # Check if all queens are placed on the board without threatening each other\n",
    "    if len(state) == N and is_valid(state):\n",
    "        return True\n",
    "    return False\n",
    "\n",
    "\n",
    "def successor_fn(state):\n",
    "    # Get all possible successor states\n",
    "    successors = []\n",
    "    for i in range(N):\n",
    "        for j in range(N):\n",
    "            if j != state[i]:\n",
    "                successor = list(state)\n",
    "                successor[i] = j\n",
    "                if is_valid(successor):\n",
    "                    successors.append((tuple(successor), 1))\n",
    "    return successors\n",
    "\n",
    "\n",
    "def ucs(start):\n",
    "    heap = []\n",
    "    explored = set()\n",
    "    heapq.heappush(heap, (0, itertools.count(), start))\n",
    "    while heap:\n",
    "        (cost, _, state) = heapq.heappop(heap)\n",
    "        if goal_test(state):\n",
    "            return (cost, state)\n",
    "        if state in explored:\n",
    "            continue\n",
    "        explored.add(state)\n",
    "        for successor, step_cost in successor_fn(state):\n",
    "            if successor not in explored:\n",
    "                heapq.heappush(\n",
    "                    heap, (cost + step_cost, itertools.count(), successor))\n",
    "    return None\n",
    "\n",
    "\n",
    "N = 4\n",
    "start = tuple([-1]*N)\n",
    "print(ucs(start))\n"
   ]
  }
 ],
 "metadata": {
  "kernelspec": {
   "display_name": "Python 3",
   "language": "python",
   "name": "python3"
  },
  "language_info": {
   "codemirror_mode": {
    "name": "ipython",
    "version": 3
   },
   "file_extension": ".py",
   "mimetype": "text/x-python",
   "name": "python",
   "nbconvert_exporter": "python",
   "pygments_lexer": "ipython3",
   "version": "3.10.2"
  },
  "orig_nbformat": 4,
  "vscode": {
   "interpreter": {
    "hash": "8ee6e81a7efb1245839b2dbb1a00971d151b34bf37502da1d7ee6c1810c01f7f"
   }
  }
 },
 "nbformat": 4,
 "nbformat_minor": 2
}
